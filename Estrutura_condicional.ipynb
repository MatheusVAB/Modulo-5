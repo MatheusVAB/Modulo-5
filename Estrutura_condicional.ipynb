{
  "nbformat": 4,
  "nbformat_minor": 0,
  "metadata": {
    "colab": {
      "provenance": []
    },
    "kernelspec": {
      "name": "python3",
      "display_name": "Python 3"
    },
    "language_info": {
      "name": "python"
    }
  },
  "cells": [
    {
      "cell_type": "markdown",
      "source": [
        "# Condicional"
      ],
      "metadata": {
        "id": "JTKgMvHvROib"
      }
    },
    {
      "cell_type": "code",
      "execution_count": null,
      "metadata": {
        "id": "JMOwZGigAbzK"
      },
      "outputs": [],
      "source": [
        "# If\n",
        "if 5 > 10:\n",
        "    print('Verdade')\n"
      ]
    },
    {
      "cell_type": "code",
      "source": [
        "# If / Else\n",
        "num1 = 10\n",
        "num2 = 5\n",
        "\n",
        "if num1 > num2:\n",
        "    print('O num1 é o maior número')\n",
        "else:\n",
        "    print('O num2 é o maior número')\n"
      ],
      "metadata": {
        "id": "VeDCd--LRTc2"
      },
      "execution_count": null,
      "outputs": []
    },
    {
      "cell_type": "code",
      "source": [
        "# If / Elif / Else\n",
        "num1 = 10\n",
        "num2 = 10\n",
        "\n",
        "if num1 > num2:\n",
        "    print('O num1 é o maior número')\n",
        "elif num1 < num2:\n",
        "    print('O num2 é o maior número')\n",
        "else:\n",
        "    print('Os dois são iguais')\n"
      ],
      "metadata": {
        "id": "MToth7pqRTl6"
      },
      "execution_count": null,
      "outputs": []
    },
    {
      "cell_type": "markdown",
      "source": [
        "# Condicional com operadores logicos"
      ],
      "metadata": {
        "id": "yOZMUYVnRa80"
      }
    },
    {
      "cell_type": "code",
      "source": [
        "# Condicional com operadores lógicos\n",
        "num1 = 10\n",
        "num2 = 5\n",
        "num3 = 2\n",
        "\n",
        "if (num1 > num2) and (num1 > num3):\n",
        "    print('O num1 é o maior número')\n",
        "else:\n",
        "    print('O num1 não é o maior número')\n"
      ],
      "metadata": {
        "id": "WUsu0nLYRTrU"
      },
      "execution_count": null,
      "outputs": []
    },
    {
      "cell_type": "code",
      "source": [],
      "metadata": {
        "id": "xuz56KrHRTvU"
      },
      "execution_count": null,
      "outputs": []
    }
  ]
}