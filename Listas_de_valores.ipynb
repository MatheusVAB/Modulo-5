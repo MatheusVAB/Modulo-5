{
  "nbformat": 4,
  "nbformat_minor": 0,
  "metadata": {
    "colab": {
      "provenance": []
    },
    "kernelspec": {
      "name": "python3",
      "display_name": "Python 3"
    },
    "language_info": {
      "name": "python"
    }
  },
  "cells": [
    {
      "cell_type": "markdown",
      "source": [
        "# Listas, tuplas, e dicionarios\n",
        "\n"
      ],
      "metadata": {
        "id": "kMz0pzpRV6iw"
      }
    },
    {
      "cell_type": "code",
      "source": [
        "# Lista\n",
        "[1, 2, 3, 4, 5]"
      ],
      "metadata": {
        "colab": {
          "base_uri": "https://localhost:8080/"
        },
        "id": "eoh5IZ3RV6Uo",
        "outputId": "cb32586d-e042-4e74-8d84-fd26ffb06920"
      },
      "execution_count": 5,
      "outputs": [
        {
          "output_type": "execute_result",
          "data": {
            "text/plain": [
              "[1, 2, 3, 4, 5]"
            ]
          },
          "metadata": {},
          "execution_count": 5
        }
      ]
    },
    {
      "cell_type": "code",
      "execution_count": 6,
      "metadata": {
        "colab": {
          "base_uri": "https://localhost:8080/"
        },
        "id": "Py1rh_60R3uM",
        "outputId": "b0d228a7-f69b-4fe6-ee99-76685c3dc8f9"
      },
      "outputs": [
        {
          "output_type": "execute_result",
          "data": {
            "text/plain": [
              "(1, 2, 3, 4, 5)"
            ]
          },
          "metadata": {},
          "execution_count": 6
        }
      ],
      "source": [
        "# Tupla\n",
        "(1, 2, 3, 4, 5)\n"
      ]
    },
    {
      "cell_type": "code",
      "source": [
        "# Dicionário\n",
        "{'num1': 1, 'num2': 2}\n"
      ],
      "metadata": {
        "colab": {
          "base_uri": "https://localhost:8080/"
        },
        "id": "2mcbupzVWNP5",
        "outputId": "87eb4d51-3c2b-4e0d-e8c9-871fb2834d2b"
      },
      "execution_count": 7,
      "outputs": [
        {
          "output_type": "execute_result",
          "data": {
            "text/plain": [
              "{'num1': 1, 'num2': 2}"
            ]
          },
          "metadata": {},
          "execution_count": 7
        }
      ]
    },
    {
      "cell_type": "code",
      "source": [
        "lista = [5, 'Rodrigo', 8.9]\n"
      ],
      "metadata": {
        "id": "zdIF2-pMWNYU"
      },
      "execution_count": 8,
      "outputs": []
    },
    {
      "cell_type": "code",
      "source": [
        "type(lista)\n"
      ],
      "metadata": {
        "colab": {
          "base_uri": "https://localhost:8080/"
        },
        "id": "74LDcb4RWNeb",
        "outputId": "365b9f7a-a8f4-43f9-d330-9629ebb54267"
      },
      "execution_count": 9,
      "outputs": [
        {
          "output_type": "execute_result",
          "data": {
            "text/plain": [
              "list"
            ]
          },
          "metadata": {},
          "execution_count": 9
        }
      ]
    },
    {
      "cell_type": "code",
      "source": [
        "lista.append(\"Augusto\")  # Adicionar um elemento na lista\n"
      ],
      "metadata": {
        "id": "VsHwXC7sWNmP"
      },
      "execution_count": 10,
      "outputs": []
    },
    {
      "cell_type": "code",
      "source": [
        "print(lista)\n",
        "print(lista[1])\n"
      ],
      "metadata": {
        "colab": {
          "base_uri": "https://localhost:8080/"
        },
        "id": "8LIT28htWNsC",
        "outputId": "e97cd84c-fbcc-401b-bd8e-eddd728a9852"
      },
      "execution_count": 16,
      "outputs": [
        {
          "output_type": "stream",
          "name": "stdout",
          "text": [
            "[5, 'Rodrigo', 8.9, 'Augusto']\n",
            "Rodrigo\n"
          ]
        }
      ]
    },
    {
      "cell_type": "markdown",
      "source": [
        "# Tupla"
      ],
      "metadata": {
        "id": "edoosjUMWoCo"
      }
    },
    {
      "cell_type": "code",
      "source": [
        "tupla = (5, 'Rodrigo', 8.9)\n"
      ],
      "metadata": {
        "id": "Lv8favqpWNxE"
      },
      "execution_count": 22,
      "outputs": []
    },
    {
      "cell_type": "code",
      "source": [
        "type(tupla)\n",
        "\n"
      ],
      "metadata": {
        "colab": {
          "base_uri": "https://localhost:8080/"
        },
        "id": "8_C1z71iXRKx",
        "outputId": "34ce42f0-7517-463d-b31c-72c75459980d"
      },
      "execution_count": 21,
      "outputs": [
        {
          "output_type": "execute_result",
          "data": {
            "text/plain": [
              "tuple"
            ]
          },
          "metadata": {},
          "execution_count": 21
        }
      ]
    },
    {
      "cell_type": "code",
      "source": [
        "tupla.append(\"Augusto\")\n"
      ],
      "metadata": {
        "colab": {
          "base_uri": "https://localhost:8080/",
          "height": 141
        },
        "id": "BiAvJRoLXRPf",
        "outputId": "2af97cf2-4ba2-4c47-de40-18fcfee664af"
      },
      "execution_count": 23,
      "outputs": [
        {
          "output_type": "error",
          "ename": "AttributeError",
          "evalue": "'tuple' object has no attribute 'append'",
          "traceback": [
            "\u001b[0;31m---------------------------------------------------------------------------\u001b[0m",
            "\u001b[0;31mAttributeError\u001b[0m                            Traceback (most recent call last)",
            "\u001b[0;32m/tmp/ipython-input-23-501376178.py\u001b[0m in \u001b[0;36m<cell line: 0>\u001b[0;34m()\u001b[0m\n\u001b[0;32m----> 1\u001b[0;31m \u001b[0mtupla\u001b[0m\u001b[0;34m.\u001b[0m\u001b[0mappend\u001b[0m\u001b[0;34m(\u001b[0m\u001b[0;34m\"Augusto\"\u001b[0m\u001b[0;34m)\u001b[0m\u001b[0;34m\u001b[0m\u001b[0;34m\u001b[0m\u001b[0m\n\u001b[0m",
            "\u001b[0;31mAttributeError\u001b[0m: 'tuple' object has no attribute 'append'"
          ]
        }
      ]
    },
    {
      "cell_type": "code",
      "source": [
        "print(tupla)\n",
        "\n"
      ],
      "metadata": {
        "colab": {
          "base_uri": "https://localhost:8080/"
        },
        "id": "kqBjCTQYXRTv",
        "outputId": "5da7acbb-f27f-4771-ae9b-5ba14fb4f54d"
      },
      "execution_count": 25,
      "outputs": [
        {
          "output_type": "stream",
          "name": "stdout",
          "text": [
            "(5, 'Rodrigo', 8.9)\n"
          ]
        }
      ]
    },
    {
      "cell_type": "code",
      "source": [
        "tupla = (5, 'Rodrigo', 8.9)\n",
        "lista = list(tupla)\n",
        "lista.append(\"Augusto\")\n",
        "tupla = tuple(lista)\n",
        "print(tupla)\n"
      ],
      "metadata": {
        "colab": {
          "base_uri": "https://localhost:8080/"
        },
        "id": "l3JwXUu4XRXp",
        "outputId": "73b36737-9b07-438a-e040-3f58f5edf466"
      },
      "execution_count": 26,
      "outputs": [
        {
          "output_type": "stream",
          "name": "stdout",
          "text": [
            "(5, 'Rodrigo', 8.9, 'Augusto')\n"
          ]
        }
      ]
    },
    {
      "cell_type": "markdown",
      "source": [
        "# Dicionário"
      ],
      "metadata": {
        "id": "jnIgA6hOWqcP"
      }
    },
    {
      "cell_type": "code",
      "source": [
        "dicionario = {'nome': 'Matheus', 'cidade': 'Brasilia'}\n"
      ],
      "metadata": {
        "id": "AHRdAp-bWu4P"
      },
      "execution_count": 1,
      "outputs": []
    },
    {
      "cell_type": "code",
      "source": [
        "type(dicionario)"
      ],
      "metadata": {
        "colab": {
          "base_uri": "https://localhost:8080/"
        },
        "id": "cN3bF0l52nBb",
        "outputId": "addeaf3d-95c6-47c9-817c-e9a60c50aa70"
      },
      "execution_count": 2,
      "outputs": [
        {
          "output_type": "execute_result",
          "data": {
            "text/plain": [
              "dict"
            ]
          },
          "metadata": {},
          "execution_count": 2
        }
      ]
    },
    {
      "cell_type": "code",
      "source": [
        "print(dicionario)"
      ],
      "metadata": {
        "colab": {
          "base_uri": "https://localhost:8080/"
        },
        "id": "52aIOSIa2qHZ",
        "outputId": "2c5b6598-b4b2-408f-ebc7-b9315c4999d4"
      },
      "execution_count": 3,
      "outputs": [
        {
          "output_type": "stream",
          "name": "stdout",
          "text": [
            "{'nome': 'Matheus', 'cidade': 'Brasilia'}\n"
          ]
        }
      ]
    },
    {
      "cell_type": "code",
      "source": [
        "dicionario[ \"ultimo nome\" ] = \"Borges\""
      ],
      "metadata": {
        "id": "iTGsPzJN2731"
      },
      "execution_count": 7,
      "outputs": []
    },
    {
      "cell_type": "code",
      "source": [
        "print(dicionario)"
      ],
      "metadata": {
        "colab": {
          "base_uri": "https://localhost:8080/"
        },
        "id": "Pjno3xRC2uGR",
        "outputId": "f979b919-93c5-47c7-d984-d08c0f51e9e8"
      },
      "execution_count": 8,
      "outputs": [
        {
          "output_type": "stream",
          "name": "stdout",
          "text": [
            "{'nome': 'Matheus', 'cidade': 'Brasilia', 'ultimo nome': 'Borges'}\n"
          ]
        }
      ]
    }
  ]
}