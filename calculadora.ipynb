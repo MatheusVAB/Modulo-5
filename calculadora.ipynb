{
  "nbformat": 4,
  "nbformat_minor": 0,
  "metadata": {
    "colab": {
      "provenance": []
    },
    "kernelspec": {
      "name": "python3",
      "display_name": "Python 3"
    },
    "language_info": {
      "name": "python"
    }
  },
  "cells": [
    {
      "cell_type": "code",
      "execution_count": 1,
      "metadata": {
        "colab": {
          "base_uri": "https://localhost:8080/"
        },
        "id": "3re4W3NZ1Tho",
        "outputId": "bb1e6f0b-f798-4073-d8b8-276d60203856"
      },
      "outputs": [
        {
          "output_type": "stream",
          "name": "stdout",
          "text": [
            "Calculadora Inteligente 🧠\n",
            "Operações disponíveis: +, -, *, /\n",
            "Digite o primeiro número: 20\n",
            "Digite o segundo número: 5\n",
            "Escolha a operação (+, -, *, /): /\n",
            "Resultado: 4.0\n",
            "Deseja realizar outra operação? (s/n): s\n",
            "Digite o primeiro número: 5\n",
            "Digite o segundo número: 20\n",
            "Escolha a operação (+, -, *, /): /\n",
            "Resultado: 0.25\n",
            "Deseja realizar outra operação? (s/n): n\n",
            "Encerrando a calculadora. Até mais!\n"
          ]
        }
      ],
      "source": [
        "print(\"Calculadora Inteligente 🧠\")\n",
        "print(\"Operações disponíveis: +, -, *, /\")\n",
        "\n",
        "while True:\n",
        "    # Entrada dos números\n",
        "    num1 = float(input(\"Digite o primeiro número: \"))\n",
        "    num2 = float(input(\"Digite o segundo número: \"))\n",
        "\n",
        "    # Escolha da operação\n",
        "    operacao = input(\"Escolha a operação (+, -, *, /): \")\n",
        "\n",
        "    # Condicional para realizar a operação\n",
        "    if operacao == \"+\":\n",
        "        resultado = num1 + num2\n",
        "        print(\"Resultado:\", resultado)\n",
        "    elif operacao == \"-\":\n",
        "        resultado = num1 - num2\n",
        "        print(\"Resultado:\", resultado)\n",
        "    elif operacao == \"*\":\n",
        "        resultado = num1 * num2\n",
        "        print(\"Resultado:\", resultado)\n",
        "    elif operacao == \"/\":\n",
        "        if num2 != 0:\n",
        "            resultado = num1 / num2\n",
        "            print(\"Resultado:\", resultado)\n",
        "        else:\n",
        "            print(\"Erro: divisão por zero!\")\n",
        "    else:\n",
        "        print(\"Operação inválida!\")\n",
        "\n",
        "    # Pergunta se o usuário deseja continuar\n",
        "    continuar = input(\"Deseja realizar outra operação? (s/n): \")\n",
        "    if continuar.lower() != \"s\":\n",
        "        print(\"Encerrando a calculadora. Até mais!\")\n",
        "        break\n"
      ]
    }
  ]
}